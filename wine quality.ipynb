{
 "cells": [
  {
   "cell_type": "code",
   "execution_count": 1,
   "id": "f274a091-406a-4b70-aa96-dcb1a4085701",
   "metadata": {},
   "outputs": [],
   "source": [
    "import numpy as np\n",
    "import pandas as pd\n",
    "import matplotlib.pyplot as plt\n",
    "import seaborn as sns\n",
    "import warnings\n",
    "warnings.filterwarnings('ignore')"
   ]
  },
  {
   "cell_type": "markdown",
   "id": "b00549d8-8af3-4136-8217-68e6037b3533",
   "metadata": {},
   "source": [
    "**read the dataset**"
   ]
  },
  {
   "cell_type": "code",
   "execution_count": 2,
   "id": "0700e64a-5d82-4a8c-80b8-d36a8d9d18b3",
   "metadata": {},
   "outputs": [
    {
     "data": {
      "text/html": [
       "<div>\n",
       "<style scoped>\n",
       "    .dataframe tbody tr th:only-of-type {\n",
       "        vertical-align: middle;\n",
       "    }\n",
       "\n",
       "    .dataframe tbody tr th {\n",
       "        vertical-align: top;\n",
       "    }\n",
       "\n",
       "    .dataframe thead th {\n",
       "        text-align: right;\n",
       "    }\n",
       "</style>\n",
       "<table border=\"1\" class=\"dataframe\">\n",
       "  <thead>\n",
       "    <tr style=\"text-align: right;\">\n",
       "      <th></th>\n",
       "      <th>fixed acidity</th>\n",
       "      <th>volatile acidity</th>\n",
       "      <th>citric acid</th>\n",
       "      <th>residual sugar</th>\n",
       "      <th>chlorides</th>\n",
       "      <th>free sulfur dioxide</th>\n",
       "      <th>total sulfur dioxide</th>\n",
       "      <th>density</th>\n",
       "      <th>pH</th>\n",
       "      <th>sulphates</th>\n",
       "      <th>alcohol</th>\n",
       "      <th>quality</th>\n",
       "    </tr>\n",
       "  </thead>\n",
       "  <tbody>\n",
       "    <tr>\n",
       "      <th>0</th>\n",
       "      <td>NaN</td>\n",
       "      <td>NaN</td>\n",
       "      <td>NaN</td>\n",
       "      <td>NaN</td>\n",
       "      <td>NaN</td>\n",
       "      <td>NaN</td>\n",
       "      <td>NaN</td>\n",
       "      <td>NaN</td>\n",
       "      <td>NaN</td>\n",
       "      <td>NaN</td>\n",
       "      <td>NaN</td>\n",
       "      <td>NaN</td>\n",
       "    </tr>\n",
       "    <tr>\n",
       "      <th>1</th>\n",
       "      <td>7.4</td>\n",
       "      <td>0.700</td>\n",
       "      <td>0.00</td>\n",
       "      <td>1.9</td>\n",
       "      <td>0.076</td>\n",
       "      <td>11.0</td>\n",
       "      <td>34.0</td>\n",
       "      <td>0.99780</td>\n",
       "      <td>3.51</td>\n",
       "      <td>0.56</td>\n",
       "      <td>9.4</td>\n",
       "      <td>5.0</td>\n",
       "    </tr>\n",
       "    <tr>\n",
       "      <th>2</th>\n",
       "      <td>NaN</td>\n",
       "      <td>NaN</td>\n",
       "      <td>NaN</td>\n",
       "      <td>NaN</td>\n",
       "      <td>NaN</td>\n",
       "      <td>NaN</td>\n",
       "      <td>NaN</td>\n",
       "      <td>NaN</td>\n",
       "      <td>NaN</td>\n",
       "      <td>NaN</td>\n",
       "      <td>NaN</td>\n",
       "      <td>NaN</td>\n",
       "    </tr>\n",
       "    <tr>\n",
       "      <th>3</th>\n",
       "      <td>7.8</td>\n",
       "      <td>0.880</td>\n",
       "      <td>0.00</td>\n",
       "      <td>2.6</td>\n",
       "      <td>0.098</td>\n",
       "      <td>25.0</td>\n",
       "      <td>67.0</td>\n",
       "      <td>0.99680</td>\n",
       "      <td>3.20</td>\n",
       "      <td>0.68</td>\n",
       "      <td>9.8</td>\n",
       "      <td>5.0</td>\n",
       "    </tr>\n",
       "    <tr>\n",
       "      <th>4</th>\n",
       "      <td>NaN</td>\n",
       "      <td>NaN</td>\n",
       "      <td>NaN</td>\n",
       "      <td>NaN</td>\n",
       "      <td>NaN</td>\n",
       "      <td>NaN</td>\n",
       "      <td>NaN</td>\n",
       "      <td>NaN</td>\n",
       "      <td>NaN</td>\n",
       "      <td>NaN</td>\n",
       "      <td>NaN</td>\n",
       "      <td>NaN</td>\n",
       "    </tr>\n",
       "    <tr>\n",
       "      <th>...</th>\n",
       "      <td>...</td>\n",
       "      <td>...</td>\n",
       "      <td>...</td>\n",
       "      <td>...</td>\n",
       "      <td>...</td>\n",
       "      <td>...</td>\n",
       "      <td>...</td>\n",
       "      <td>...</td>\n",
       "      <td>...</td>\n",
       "      <td>...</td>\n",
       "      <td>...</td>\n",
       "      <td>...</td>\n",
       "    </tr>\n",
       "    <tr>\n",
       "      <th>3193</th>\n",
       "      <td>6.3</td>\n",
       "      <td>0.510</td>\n",
       "      <td>0.13</td>\n",
       "      <td>2.3</td>\n",
       "      <td>0.076</td>\n",
       "      <td>29.0</td>\n",
       "      <td>40.0</td>\n",
       "      <td>0.99574</td>\n",
       "      <td>3.42</td>\n",
       "      <td>0.75</td>\n",
       "      <td>11.0</td>\n",
       "      <td>6.0</td>\n",
       "    </tr>\n",
       "    <tr>\n",
       "      <th>3194</th>\n",
       "      <td>NaN</td>\n",
       "      <td>NaN</td>\n",
       "      <td>NaN</td>\n",
       "      <td>NaN</td>\n",
       "      <td>NaN</td>\n",
       "      <td>NaN</td>\n",
       "      <td>NaN</td>\n",
       "      <td>NaN</td>\n",
       "      <td>NaN</td>\n",
       "      <td>NaN</td>\n",
       "      <td>NaN</td>\n",
       "      <td>NaN</td>\n",
       "    </tr>\n",
       "    <tr>\n",
       "      <th>3195</th>\n",
       "      <td>5.9</td>\n",
       "      <td>0.645</td>\n",
       "      <td>0.12</td>\n",
       "      <td>2.0</td>\n",
       "      <td>0.075</td>\n",
       "      <td>32.0</td>\n",
       "      <td>44.0</td>\n",
       "      <td>0.99547</td>\n",
       "      <td>3.57</td>\n",
       "      <td>0.71</td>\n",
       "      <td>10.2</td>\n",
       "      <td>5.0</td>\n",
       "    </tr>\n",
       "    <tr>\n",
       "      <th>3196</th>\n",
       "      <td>NaN</td>\n",
       "      <td>NaN</td>\n",
       "      <td>NaN</td>\n",
       "      <td>NaN</td>\n",
       "      <td>NaN</td>\n",
       "      <td>NaN</td>\n",
       "      <td>NaN</td>\n",
       "      <td>NaN</td>\n",
       "      <td>NaN</td>\n",
       "      <td>NaN</td>\n",
       "      <td>NaN</td>\n",
       "      <td>NaN</td>\n",
       "    </tr>\n",
       "    <tr>\n",
       "      <th>3197</th>\n",
       "      <td>6.0</td>\n",
       "      <td>0.310</td>\n",
       "      <td>0.47</td>\n",
       "      <td>3.6</td>\n",
       "      <td>0.067</td>\n",
       "      <td>18.0</td>\n",
       "      <td>42.0</td>\n",
       "      <td>0.99549</td>\n",
       "      <td>3.39</td>\n",
       "      <td>0.66</td>\n",
       "      <td>11.0</td>\n",
       "      <td>6.0</td>\n",
       "    </tr>\n",
       "  </tbody>\n",
       "</table>\n",
       "<p>3198 rows × 12 columns</p>\n",
       "</div>"
      ],
      "text/plain": [
       "      fixed acidity  volatile acidity  citric acid  residual sugar  chlorides  \\\n",
       "0               NaN               NaN          NaN             NaN        NaN   \n",
       "1               7.4             0.700         0.00             1.9      0.076   \n",
       "2               NaN               NaN          NaN             NaN        NaN   \n",
       "3               7.8             0.880         0.00             2.6      0.098   \n",
       "4               NaN               NaN          NaN             NaN        NaN   \n",
       "...             ...               ...          ...             ...        ...   \n",
       "3193            6.3             0.510         0.13             2.3      0.076   \n",
       "3194            NaN               NaN          NaN             NaN        NaN   \n",
       "3195            5.9             0.645         0.12             2.0      0.075   \n",
       "3196            NaN               NaN          NaN             NaN        NaN   \n",
       "3197            6.0             0.310         0.47             3.6      0.067   \n",
       "\n",
       "      free sulfur dioxide  total sulfur dioxide  density    pH  sulphates  \\\n",
       "0                     NaN                   NaN      NaN   NaN        NaN   \n",
       "1                    11.0                  34.0  0.99780  3.51       0.56   \n",
       "2                     NaN                   NaN      NaN   NaN        NaN   \n",
       "3                    25.0                  67.0  0.99680  3.20       0.68   \n",
       "4                     NaN                   NaN      NaN   NaN        NaN   \n",
       "...                   ...                   ...      ...   ...        ...   \n",
       "3193                 29.0                  40.0  0.99574  3.42       0.75   \n",
       "3194                  NaN                   NaN      NaN   NaN        NaN   \n",
       "3195                 32.0                  44.0  0.99547  3.57       0.71   \n",
       "3196                  NaN                   NaN      NaN   NaN        NaN   \n",
       "3197                 18.0                  42.0  0.99549  3.39       0.66   \n",
       "\n",
       "      alcohol  quality  \n",
       "0         NaN      NaN  \n",
       "1         9.4      5.0  \n",
       "2         NaN      NaN  \n",
       "3         9.8      5.0  \n",
       "4         NaN      NaN  \n",
       "...       ...      ...  \n",
       "3193     11.0      6.0  \n",
       "3194      NaN      NaN  \n",
       "3195     10.2      5.0  \n",
       "3196      NaN      NaN  \n",
       "3197     11.0      6.0  \n",
       "\n",
       "[3198 rows x 12 columns]"
      ]
     },
     "execution_count": 2,
     "metadata": {},
     "output_type": "execute_result"
    }
   ],
   "source": [
    "df=pd.read_csv(\"C:\\\\Users\\\\Venkatesh\\\\OneDrive\\\\Desktop\\\\NIT BATCH 9 AM\\\\LINEAR REGREESION PYTHON CODE PRACTICE\\\\DATASETS\\\\winequality_red - winequality_red.csv\")\n",
    "df"
   ]
  },
  {
   "cell_type": "code",
   "execution_count": 3,
   "id": "666c4f6b-852d-4fc3-a84f-ccc6a6975dab",
   "metadata": {},
   "outputs": [
    {
     "data": {
      "text/html": [
       "<div>\n",
       "<style scoped>\n",
       "    .dataframe tbody tr th:only-of-type {\n",
       "        vertical-align: middle;\n",
       "    }\n",
       "\n",
       "    .dataframe tbody tr th {\n",
       "        vertical-align: top;\n",
       "    }\n",
       "\n",
       "    .dataframe thead th {\n",
       "        text-align: right;\n",
       "    }\n",
       "</style>\n",
       "<table border=\"1\" class=\"dataframe\">\n",
       "  <thead>\n",
       "    <tr style=\"text-align: right;\">\n",
       "      <th></th>\n",
       "      <th>fixed acidity</th>\n",
       "      <th>volatile acidity</th>\n",
       "      <th>citric acid</th>\n",
       "      <th>residual sugar</th>\n",
       "      <th>chlorides</th>\n",
       "      <th>free sulfur dioxide</th>\n",
       "      <th>total sulfur dioxide</th>\n",
       "      <th>density</th>\n",
       "      <th>pH</th>\n",
       "      <th>sulphates</th>\n",
       "      <th>alcohol</th>\n",
       "      <th>quality</th>\n",
       "    </tr>\n",
       "  </thead>\n",
       "  <tbody>\n",
       "    <tr>\n",
       "      <th>1</th>\n",
       "      <td>7.4</td>\n",
       "      <td>0.700</td>\n",
       "      <td>0.00</td>\n",
       "      <td>1.9</td>\n",
       "      <td>0.076</td>\n",
       "      <td>11.0</td>\n",
       "      <td>34.0</td>\n",
       "      <td>0.99780</td>\n",
       "      <td>3.51</td>\n",
       "      <td>0.56</td>\n",
       "      <td>9.4</td>\n",
       "      <td>5.0</td>\n",
       "    </tr>\n",
       "    <tr>\n",
       "      <th>3</th>\n",
       "      <td>7.8</td>\n",
       "      <td>0.880</td>\n",
       "      <td>0.00</td>\n",
       "      <td>2.6</td>\n",
       "      <td>0.098</td>\n",
       "      <td>25.0</td>\n",
       "      <td>67.0</td>\n",
       "      <td>0.99680</td>\n",
       "      <td>3.20</td>\n",
       "      <td>0.68</td>\n",
       "      <td>9.8</td>\n",
       "      <td>5.0</td>\n",
       "    </tr>\n",
       "    <tr>\n",
       "      <th>5</th>\n",
       "      <td>7.8</td>\n",
       "      <td>0.760</td>\n",
       "      <td>0.04</td>\n",
       "      <td>2.3</td>\n",
       "      <td>0.092</td>\n",
       "      <td>15.0</td>\n",
       "      <td>54.0</td>\n",
       "      <td>0.99700</td>\n",
       "      <td>3.26</td>\n",
       "      <td>0.65</td>\n",
       "      <td>9.8</td>\n",
       "      <td>5.0</td>\n",
       "    </tr>\n",
       "    <tr>\n",
       "      <th>7</th>\n",
       "      <td>11.2</td>\n",
       "      <td>0.280</td>\n",
       "      <td>0.56</td>\n",
       "      <td>1.9</td>\n",
       "      <td>0.075</td>\n",
       "      <td>17.0</td>\n",
       "      <td>60.0</td>\n",
       "      <td>0.99800</td>\n",
       "      <td>3.16</td>\n",
       "      <td>0.58</td>\n",
       "      <td>9.8</td>\n",
       "      <td>6.0</td>\n",
       "    </tr>\n",
       "    <tr>\n",
       "      <th>9</th>\n",
       "      <td>7.4</td>\n",
       "      <td>0.700</td>\n",
       "      <td>0.00</td>\n",
       "      <td>1.9</td>\n",
       "      <td>0.076</td>\n",
       "      <td>11.0</td>\n",
       "      <td>34.0</td>\n",
       "      <td>0.99780</td>\n",
       "      <td>3.51</td>\n",
       "      <td>0.56</td>\n",
       "      <td>9.4</td>\n",
       "      <td>5.0</td>\n",
       "    </tr>\n",
       "    <tr>\n",
       "      <th>...</th>\n",
       "      <td>...</td>\n",
       "      <td>...</td>\n",
       "      <td>...</td>\n",
       "      <td>...</td>\n",
       "      <td>...</td>\n",
       "      <td>...</td>\n",
       "      <td>...</td>\n",
       "      <td>...</td>\n",
       "      <td>...</td>\n",
       "      <td>...</td>\n",
       "      <td>...</td>\n",
       "      <td>...</td>\n",
       "    </tr>\n",
       "    <tr>\n",
       "      <th>3189</th>\n",
       "      <td>6.2</td>\n",
       "      <td>0.600</td>\n",
       "      <td>0.08</td>\n",
       "      <td>2.0</td>\n",
       "      <td>0.090</td>\n",
       "      <td>32.0</td>\n",
       "      <td>44.0</td>\n",
       "      <td>0.99490</td>\n",
       "      <td>3.45</td>\n",
       "      <td>0.58</td>\n",
       "      <td>10.5</td>\n",
       "      <td>5.0</td>\n",
       "    </tr>\n",
       "    <tr>\n",
       "      <th>3191</th>\n",
       "      <td>5.9</td>\n",
       "      <td>0.550</td>\n",
       "      <td>0.10</td>\n",
       "      <td>2.2</td>\n",
       "      <td>0.062</td>\n",
       "      <td>39.0</td>\n",
       "      <td>51.0</td>\n",
       "      <td>0.99512</td>\n",
       "      <td>3.52</td>\n",
       "      <td>0.76</td>\n",
       "      <td>11.2</td>\n",
       "      <td>6.0</td>\n",
       "    </tr>\n",
       "    <tr>\n",
       "      <th>3193</th>\n",
       "      <td>6.3</td>\n",
       "      <td>0.510</td>\n",
       "      <td>0.13</td>\n",
       "      <td>2.3</td>\n",
       "      <td>0.076</td>\n",
       "      <td>29.0</td>\n",
       "      <td>40.0</td>\n",
       "      <td>0.99574</td>\n",
       "      <td>3.42</td>\n",
       "      <td>0.75</td>\n",
       "      <td>11.0</td>\n",
       "      <td>6.0</td>\n",
       "    </tr>\n",
       "    <tr>\n",
       "      <th>3195</th>\n",
       "      <td>5.9</td>\n",
       "      <td>0.645</td>\n",
       "      <td>0.12</td>\n",
       "      <td>2.0</td>\n",
       "      <td>0.075</td>\n",
       "      <td>32.0</td>\n",
       "      <td>44.0</td>\n",
       "      <td>0.99547</td>\n",
       "      <td>3.57</td>\n",
       "      <td>0.71</td>\n",
       "      <td>10.2</td>\n",
       "      <td>5.0</td>\n",
       "    </tr>\n",
       "    <tr>\n",
       "      <th>3197</th>\n",
       "      <td>6.0</td>\n",
       "      <td>0.310</td>\n",
       "      <td>0.47</td>\n",
       "      <td>3.6</td>\n",
       "      <td>0.067</td>\n",
       "      <td>18.0</td>\n",
       "      <td>42.0</td>\n",
       "      <td>0.99549</td>\n",
       "      <td>3.39</td>\n",
       "      <td>0.66</td>\n",
       "      <td>11.0</td>\n",
       "      <td>6.0</td>\n",
       "    </tr>\n",
       "  </tbody>\n",
       "</table>\n",
       "<p>1599 rows × 12 columns</p>\n",
       "</div>"
      ],
      "text/plain": [
       "      fixed acidity  volatile acidity  citric acid  residual sugar  chlorides  \\\n",
       "1               7.4             0.700         0.00             1.9      0.076   \n",
       "3               7.8             0.880         0.00             2.6      0.098   \n",
       "5               7.8             0.760         0.04             2.3      0.092   \n",
       "7              11.2             0.280         0.56             1.9      0.075   \n",
       "9               7.4             0.700         0.00             1.9      0.076   \n",
       "...             ...               ...          ...             ...        ...   \n",
       "3189            6.2             0.600         0.08             2.0      0.090   \n",
       "3191            5.9             0.550         0.10             2.2      0.062   \n",
       "3193            6.3             0.510         0.13             2.3      0.076   \n",
       "3195            5.9             0.645         0.12             2.0      0.075   \n",
       "3197            6.0             0.310         0.47             3.6      0.067   \n",
       "\n",
       "      free sulfur dioxide  total sulfur dioxide  density    pH  sulphates  \\\n",
       "1                    11.0                  34.0  0.99780  3.51       0.56   \n",
       "3                    25.0                  67.0  0.99680  3.20       0.68   \n",
       "5                    15.0                  54.0  0.99700  3.26       0.65   \n",
       "7                    17.0                  60.0  0.99800  3.16       0.58   \n",
       "9                    11.0                  34.0  0.99780  3.51       0.56   \n",
       "...                   ...                   ...      ...   ...        ...   \n",
       "3189                 32.0                  44.0  0.99490  3.45       0.58   \n",
       "3191                 39.0                  51.0  0.99512  3.52       0.76   \n",
       "3193                 29.0                  40.0  0.99574  3.42       0.75   \n",
       "3195                 32.0                  44.0  0.99547  3.57       0.71   \n",
       "3197                 18.0                  42.0  0.99549  3.39       0.66   \n",
       "\n",
       "      alcohol  quality  \n",
       "1         9.4      5.0  \n",
       "3         9.8      5.0  \n",
       "5         9.8      5.0  \n",
       "7         9.8      6.0  \n",
       "9         9.4      5.0  \n",
       "...       ...      ...  \n",
       "3189     10.5      5.0  \n",
       "3191     11.2      6.0  \n",
       "3193     11.0      6.0  \n",
       "3195     10.2      5.0  \n",
       "3197     11.0      6.0  \n",
       "\n",
       "[1599 rows x 12 columns]"
      ]
     },
     "execution_count": 3,
     "metadata": {},
     "output_type": "execute_result"
    }
   ],
   "source": [
    "df.dropna(inplace=True)\n",
    "df"
   ]
  },
  {
   "cell_type": "code",
   "execution_count": 4,
   "id": "eff5aef1-67e5-403c-9bc0-5e649cf560b5",
   "metadata": {},
   "outputs": [
    {
     "data": {
      "text/html": [
       "<div>\n",
       "<style scoped>\n",
       "    .dataframe tbody tr th:only-of-type {\n",
       "        vertical-align: middle;\n",
       "    }\n",
       "\n",
       "    .dataframe tbody tr th {\n",
       "        vertical-align: top;\n",
       "    }\n",
       "\n",
       "    .dataframe thead th {\n",
       "        text-align: right;\n",
       "    }\n",
       "</style>\n",
       "<table border=\"1\" class=\"dataframe\">\n",
       "  <thead>\n",
       "    <tr style=\"text-align: right;\">\n",
       "      <th></th>\n",
       "      <th>fixed acidity</th>\n",
       "      <th>volatile acidity</th>\n",
       "      <th>citric acid</th>\n",
       "      <th>residual sugar</th>\n",
       "      <th>chlorides</th>\n",
       "      <th>free sulfur dioxide</th>\n",
       "      <th>total sulfur dioxide</th>\n",
       "      <th>density</th>\n",
       "      <th>pH</th>\n",
       "      <th>sulphates</th>\n",
       "      <th>alcohol</th>\n",
       "      <th>quality</th>\n",
       "    </tr>\n",
       "  </thead>\n",
       "  <tbody>\n",
       "    <tr>\n",
       "      <th>1</th>\n",
       "      <td>7.4</td>\n",
       "      <td>0.70</td>\n",
       "      <td>0.00</td>\n",
       "      <td>1.9</td>\n",
       "      <td>0.076</td>\n",
       "      <td>11.0</td>\n",
       "      <td>34.0</td>\n",
       "      <td>0.9978</td>\n",
       "      <td>3.51</td>\n",
       "      <td>0.56</td>\n",
       "      <td>9.4</td>\n",
       "      <td>5.0</td>\n",
       "    </tr>\n",
       "    <tr>\n",
       "      <th>3</th>\n",
       "      <td>7.8</td>\n",
       "      <td>0.88</td>\n",
       "      <td>0.00</td>\n",
       "      <td>2.6</td>\n",
       "      <td>0.098</td>\n",
       "      <td>25.0</td>\n",
       "      <td>67.0</td>\n",
       "      <td>0.9968</td>\n",
       "      <td>3.20</td>\n",
       "      <td>0.68</td>\n",
       "      <td>9.8</td>\n",
       "      <td>5.0</td>\n",
       "    </tr>\n",
       "    <tr>\n",
       "      <th>5</th>\n",
       "      <td>7.8</td>\n",
       "      <td>0.76</td>\n",
       "      <td>0.04</td>\n",
       "      <td>2.3</td>\n",
       "      <td>0.092</td>\n",
       "      <td>15.0</td>\n",
       "      <td>54.0</td>\n",
       "      <td>0.9970</td>\n",
       "      <td>3.26</td>\n",
       "      <td>0.65</td>\n",
       "      <td>9.8</td>\n",
       "      <td>5.0</td>\n",
       "    </tr>\n",
       "    <tr>\n",
       "      <th>7</th>\n",
       "      <td>11.2</td>\n",
       "      <td>0.28</td>\n",
       "      <td>0.56</td>\n",
       "      <td>1.9</td>\n",
       "      <td>0.075</td>\n",
       "      <td>17.0</td>\n",
       "      <td>60.0</td>\n",
       "      <td>0.9980</td>\n",
       "      <td>3.16</td>\n",
       "      <td>0.58</td>\n",
       "      <td>9.8</td>\n",
       "      <td>6.0</td>\n",
       "    </tr>\n",
       "    <tr>\n",
       "      <th>9</th>\n",
       "      <td>7.4</td>\n",
       "      <td>0.70</td>\n",
       "      <td>0.00</td>\n",
       "      <td>1.9</td>\n",
       "      <td>0.076</td>\n",
       "      <td>11.0</td>\n",
       "      <td>34.0</td>\n",
       "      <td>0.9978</td>\n",
       "      <td>3.51</td>\n",
       "      <td>0.56</td>\n",
       "      <td>9.4</td>\n",
       "      <td>5.0</td>\n",
       "    </tr>\n",
       "  </tbody>\n",
       "</table>\n",
       "</div>"
      ],
      "text/plain": [
       "   fixed acidity  volatile acidity  citric acid  residual sugar  chlorides  \\\n",
       "1            7.4              0.70         0.00             1.9      0.076   \n",
       "3            7.8              0.88         0.00             2.6      0.098   \n",
       "5            7.8              0.76         0.04             2.3      0.092   \n",
       "7           11.2              0.28         0.56             1.9      0.075   \n",
       "9            7.4              0.70         0.00             1.9      0.076   \n",
       "\n",
       "   free sulfur dioxide  total sulfur dioxide  density    pH  sulphates  \\\n",
       "1                 11.0                  34.0   0.9978  3.51       0.56   \n",
       "3                 25.0                  67.0   0.9968  3.20       0.68   \n",
       "5                 15.0                  54.0   0.9970  3.26       0.65   \n",
       "7                 17.0                  60.0   0.9980  3.16       0.58   \n",
       "9                 11.0                  34.0   0.9978  3.51       0.56   \n",
       "\n",
       "   alcohol  quality  \n",
       "1      9.4      5.0  \n",
       "3      9.8      5.0  \n",
       "5      9.8      5.0  \n",
       "7      9.8      6.0  \n",
       "9      9.4      5.0  "
      ]
     },
     "execution_count": 4,
     "metadata": {},
     "output_type": "execute_result"
    }
   ],
   "source": [
    "df.head()"
   ]
  },
  {
   "cell_type": "code",
   "execution_count": 5,
   "id": "df640920-e0aa-4bc7-8930-860f0ea3abc8",
   "metadata": {},
   "outputs": [
    {
     "data": {
      "text/html": [
       "<div>\n",
       "<style scoped>\n",
       "    .dataframe tbody tr th:only-of-type {\n",
       "        vertical-align: middle;\n",
       "    }\n",
       "\n",
       "    .dataframe tbody tr th {\n",
       "        vertical-align: top;\n",
       "    }\n",
       "\n",
       "    .dataframe thead th {\n",
       "        text-align: right;\n",
       "    }\n",
       "</style>\n",
       "<table border=\"1\" class=\"dataframe\">\n",
       "  <thead>\n",
       "    <tr style=\"text-align: right;\">\n",
       "      <th></th>\n",
       "      <th>fixed acidity</th>\n",
       "      <th>volatile acidity</th>\n",
       "      <th>citric acid</th>\n",
       "      <th>residual sugar</th>\n",
       "      <th>chlorides</th>\n",
       "      <th>free sulfur dioxide</th>\n",
       "      <th>total sulfur dioxide</th>\n",
       "      <th>density</th>\n",
       "      <th>pH</th>\n",
       "      <th>sulphates</th>\n",
       "      <th>alcohol</th>\n",
       "      <th>quality</th>\n",
       "    </tr>\n",
       "  </thead>\n",
       "  <tbody>\n",
       "    <tr>\n",
       "      <th>3189</th>\n",
       "      <td>6.2</td>\n",
       "      <td>0.600</td>\n",
       "      <td>0.08</td>\n",
       "      <td>2.0</td>\n",
       "      <td>0.090</td>\n",
       "      <td>32.0</td>\n",
       "      <td>44.0</td>\n",
       "      <td>0.99490</td>\n",
       "      <td>3.45</td>\n",
       "      <td>0.58</td>\n",
       "      <td>10.5</td>\n",
       "      <td>5.0</td>\n",
       "    </tr>\n",
       "    <tr>\n",
       "      <th>3191</th>\n",
       "      <td>5.9</td>\n",
       "      <td>0.550</td>\n",
       "      <td>0.10</td>\n",
       "      <td>2.2</td>\n",
       "      <td>0.062</td>\n",
       "      <td>39.0</td>\n",
       "      <td>51.0</td>\n",
       "      <td>0.99512</td>\n",
       "      <td>3.52</td>\n",
       "      <td>0.76</td>\n",
       "      <td>11.2</td>\n",
       "      <td>6.0</td>\n",
       "    </tr>\n",
       "    <tr>\n",
       "      <th>3193</th>\n",
       "      <td>6.3</td>\n",
       "      <td>0.510</td>\n",
       "      <td>0.13</td>\n",
       "      <td>2.3</td>\n",
       "      <td>0.076</td>\n",
       "      <td>29.0</td>\n",
       "      <td>40.0</td>\n",
       "      <td>0.99574</td>\n",
       "      <td>3.42</td>\n",
       "      <td>0.75</td>\n",
       "      <td>11.0</td>\n",
       "      <td>6.0</td>\n",
       "    </tr>\n",
       "    <tr>\n",
       "      <th>3195</th>\n",
       "      <td>5.9</td>\n",
       "      <td>0.645</td>\n",
       "      <td>0.12</td>\n",
       "      <td>2.0</td>\n",
       "      <td>0.075</td>\n",
       "      <td>32.0</td>\n",
       "      <td>44.0</td>\n",
       "      <td>0.99547</td>\n",
       "      <td>3.57</td>\n",
       "      <td>0.71</td>\n",
       "      <td>10.2</td>\n",
       "      <td>5.0</td>\n",
       "    </tr>\n",
       "    <tr>\n",
       "      <th>3197</th>\n",
       "      <td>6.0</td>\n",
       "      <td>0.310</td>\n",
       "      <td>0.47</td>\n",
       "      <td>3.6</td>\n",
       "      <td>0.067</td>\n",
       "      <td>18.0</td>\n",
       "      <td>42.0</td>\n",
       "      <td>0.99549</td>\n",
       "      <td>3.39</td>\n",
       "      <td>0.66</td>\n",
       "      <td>11.0</td>\n",
       "      <td>6.0</td>\n",
       "    </tr>\n",
       "  </tbody>\n",
       "</table>\n",
       "</div>"
      ],
      "text/plain": [
       "      fixed acidity  volatile acidity  citric acid  residual sugar  chlorides  \\\n",
       "3189            6.2             0.600         0.08             2.0      0.090   \n",
       "3191            5.9             0.550         0.10             2.2      0.062   \n",
       "3193            6.3             0.510         0.13             2.3      0.076   \n",
       "3195            5.9             0.645         0.12             2.0      0.075   \n",
       "3197            6.0             0.310         0.47             3.6      0.067   \n",
       "\n",
       "      free sulfur dioxide  total sulfur dioxide  density    pH  sulphates  \\\n",
       "3189                 32.0                  44.0  0.99490  3.45       0.58   \n",
       "3191                 39.0                  51.0  0.99512  3.52       0.76   \n",
       "3193                 29.0                  40.0  0.99574  3.42       0.75   \n",
       "3195                 32.0                  44.0  0.99547  3.57       0.71   \n",
       "3197                 18.0                  42.0  0.99549  3.39       0.66   \n",
       "\n",
       "      alcohol  quality  \n",
       "3189     10.5      5.0  \n",
       "3191     11.2      6.0  \n",
       "3193     11.0      6.0  \n",
       "3195     10.2      5.0  \n",
       "3197     11.0      6.0  "
      ]
     },
     "execution_count": 5,
     "metadata": {},
     "output_type": "execute_result"
    }
   ],
   "source": [
    "df.tail()"
   ]
  },
  {
   "cell_type": "code",
   "execution_count": 6,
   "id": "65a6c429-7061-43fc-bc8e-669811ff84c6",
   "metadata": {},
   "outputs": [
    {
     "name": "stdout",
     "output_type": "stream",
     "text": [
      "<class 'pandas.core.frame.DataFrame'>\n",
      "Index: 1599 entries, 1 to 3197\n",
      "Data columns (total 12 columns):\n",
      " #   Column                Non-Null Count  Dtype  \n",
      "---  ------                --------------  -----  \n",
      " 0   fixed acidity         1599 non-null   float64\n",
      " 1   volatile acidity      1599 non-null   float64\n",
      " 2   citric acid           1599 non-null   float64\n",
      " 3   residual sugar        1599 non-null   float64\n",
      " 4   chlorides             1599 non-null   float64\n",
      " 5   free sulfur dioxide   1599 non-null   float64\n",
      " 6   total sulfur dioxide  1599 non-null   float64\n",
      " 7   density               1599 non-null   float64\n",
      " 8   pH                    1599 non-null   float64\n",
      " 9   sulphates             1599 non-null   float64\n",
      " 10  alcohol               1599 non-null   float64\n",
      " 11  quality               1599 non-null   float64\n",
      "dtypes: float64(12)\n",
      "memory usage: 162.4 KB\n"
     ]
    }
   ],
   "source": [
    "df.info()"
   ]
  },
  {
   "cell_type": "code",
   "execution_count": 7,
   "id": "a926d34f-be92-40c0-8bcb-ae25e404a1bb",
   "metadata": {},
   "outputs": [
    {
     "data": {
      "text/plain": [
       "Index(['fixed acidity', 'volatile acidity', 'citric acid', 'residual sugar',\n",
       "       'chlorides', 'free sulfur dioxide', 'total sulfur dioxide', 'density',\n",
       "       'pH', 'sulphates', 'alcohol', 'quality'],\n",
       "      dtype='object')"
      ]
     },
     "execution_count": 7,
     "metadata": {},
     "output_type": "execute_result"
    }
   ],
   "source": [
    "df.columns\n"
   ]
  },
  {
   "cell_type": "code",
   "execution_count": 8,
   "id": "8bebe434-2a31-4516-9ea4-3cf63f95df4c",
   "metadata": {},
   "outputs": [
    {
     "data": {
      "text/plain": [
       "(1599, 12)"
      ]
     },
     "execution_count": 8,
     "metadata": {},
     "output_type": "execute_result"
    }
   ],
   "source": [
    "df.shape"
   ]
  },
  {
   "cell_type": "code",
   "execution_count": 9,
   "id": "3577a29a-5086-4634-95a3-55e1f5cb57ba",
   "metadata": {},
   "outputs": [
    {
     "data": {
      "text/plain": [
       "19188"
      ]
     },
     "execution_count": 9,
     "metadata": {},
     "output_type": "execute_result"
    }
   ],
   "source": [
    "df.size"
   ]
  },
  {
   "cell_type": "code",
   "execution_count": 10,
   "id": "7373f162-7929-46dc-8654-33a527a40338",
   "metadata": {},
   "outputs": [
    {
     "data": {
      "text/plain": [
       "fixed acidity           0\n",
       "volatile acidity        0\n",
       "citric acid             0\n",
       "residual sugar          0\n",
       "chlorides               0\n",
       "free sulfur dioxide     0\n",
       "total sulfur dioxide    0\n",
       "density                 0\n",
       "pH                      0\n",
       "sulphates               0\n",
       "alcohol                 0\n",
       "quality                 0\n",
       "dtype: int64"
      ]
     },
     "execution_count": 10,
     "metadata": {},
     "output_type": "execute_result"
    }
   ],
   "source": [
    "df.isnull().sum()"
   ]
  },
  {
   "cell_type": "code",
   "execution_count": 11,
   "id": "ffd685c5-6c40-4bcc-aef6-d283d4487c0d",
   "metadata": {},
   "outputs": [
    {
     "data": {
      "text/plain": [
       "fixed acidity           float64\n",
       "volatile acidity        float64\n",
       "citric acid             float64\n",
       "residual sugar          float64\n",
       "chlorides               float64\n",
       "free sulfur dioxide     float64\n",
       "total sulfur dioxide    float64\n",
       "density                 float64\n",
       "pH                      float64\n",
       "sulphates               float64\n",
       "alcohol                 float64\n",
       "quality                 float64\n",
       "dtype: object"
      ]
     },
     "execution_count": 11,
     "metadata": {},
     "output_type": "execute_result"
    }
   ],
   "source": [
    "df.dtypes"
   ]
  },
  {
   "cell_type": "markdown",
   "id": "be4a172d-0338-428a-9c65-0a71676c4ec4",
   "metadata": {},
   "source": [
    "- you can apply mL models on numerical data only\n",
    "- in the above dataset target column is:quality\n",
    "- you need to predict the quality of the wine based on input given columns\n",
    "- the target column data type is numerical\n",
    "- if you have any categorical data,convert it into numerical before apply ML model\n",
    "- if you having any missing values impute before apply the ML model"
   ]
  },
  {
   "cell_type": "markdown",
   "id": "81dc30d4-c151-4e19-baa7-04e513b1b60c",
   "metadata": {},
   "source": [
    "- **process to apply ML model**\n",
    "- **First we will divide the data into two parts**\n",
    "- **Train and test data with the ratio of 80:20 or 70:30**\n",
    "- **Train data has both input data and output data: x_train ,Y_train**\n",
    "- **Test data has both input data and output data: X_test,Y_test**\n",
    "- **will develop ML model using the train data which mean using the X_tarin ,Y_train**\n",
    "- **will pass the X_test alone to the developed model**\n",
    "- **then the model will give the some output values these are called Y_predictions**\n",
    "- **Finally we will compare we will compare Y_test with the Y_predictions**\n",
    "- **Then we will calucalte the  all metrics**\n",
    "  "
   ]
  },
  {
   "cell_type": "markdown",
   "id": "f40fd6fb-34cd-4479-8c14-c750263d2d72",
   "metadata": {},
   "source": [
    "**step-3**"
   ]
  },
  {
   "cell_type": "markdown",
   "id": "6e7f132e-1c3e-4558-8a4c-cea99f57f933",
   "metadata": {},
   "source": [
    "- **in order to divide train and test data first sepearte input data and output data seperately**\n"
   ]
  },
  {
   "cell_type": "code",
   "execution_count": 12,
   "id": "bb31ed0e-41d0-41e7-95a4-2519152da475",
   "metadata": {},
   "outputs": [
    {
     "data": {
      "text/plain": [
       "Index(['fixed acidity', 'volatile acidity', 'citric acid', 'residual sugar',\n",
       "       'chlorides', 'free sulfur dioxide', 'total sulfur dioxide', 'density',\n",
       "       'pH', 'sulphates', 'alcohol', 'quality'],\n",
       "      dtype='object')"
      ]
     },
     "execution_count": 12,
     "metadata": {},
     "output_type": "execute_result"
    }
   ],
   "source": [
    "df.columns"
   ]
  },
  {
   "cell_type": "code",
   "execution_count": 13,
   "id": "b73f6fc4-f812-4e3c-9725-d7f803075f1b",
   "metadata": {},
   "outputs": [],
   "source": [
    "# input_data\n",
    "# output_data"
   ]
  },
  {
   "cell_type": "code",
   "execution_count": 14,
   "id": "f877ce32-7d82-4f3e-9a2d-ef3d8d2c89aa",
   "metadata": {},
   "outputs": [],
   "source": [
    "# drop the quality column  from original data: input data\n",
    "# select the quality column from the original data: output data"
   ]
  },
  {
   "cell_type": "code",
   "execution_count": 15,
   "id": "c8f7ef6c-21a0-44c4-83da-efc21d3f345b",
   "metadata": {},
   "outputs": [
    {
     "data": {
      "text/html": [
       "<div>\n",
       "<style scoped>\n",
       "    .dataframe tbody tr th:only-of-type {\n",
       "        vertical-align: middle;\n",
       "    }\n",
       "\n",
       "    .dataframe tbody tr th {\n",
       "        vertical-align: top;\n",
       "    }\n",
       "\n",
       "    .dataframe thead th {\n",
       "        text-align: right;\n",
       "    }\n",
       "</style>\n",
       "<table border=\"1\" class=\"dataframe\">\n",
       "  <thead>\n",
       "    <tr style=\"text-align: right;\">\n",
       "      <th></th>\n",
       "      <th>fixed acidity</th>\n",
       "      <th>volatile acidity</th>\n",
       "      <th>citric acid</th>\n",
       "      <th>residual sugar</th>\n",
       "      <th>chlorides</th>\n",
       "      <th>free sulfur dioxide</th>\n",
       "      <th>total sulfur dioxide</th>\n",
       "      <th>density</th>\n",
       "      <th>pH</th>\n",
       "      <th>sulphates</th>\n",
       "      <th>alcohol</th>\n",
       "      <th>quality</th>\n",
       "    </tr>\n",
       "  </thead>\n",
       "  <tbody>\n",
       "    <tr>\n",
       "      <th>1</th>\n",
       "      <td>7.4</td>\n",
       "      <td>0.70</td>\n",
       "      <td>0.00</td>\n",
       "      <td>1.9</td>\n",
       "      <td>0.076</td>\n",
       "      <td>11.0</td>\n",
       "      <td>34.0</td>\n",
       "      <td>0.9978</td>\n",
       "      <td>3.51</td>\n",
       "      <td>0.56</td>\n",
       "      <td>9.4</td>\n",
       "      <td>5.0</td>\n",
       "    </tr>\n",
       "    <tr>\n",
       "      <th>3</th>\n",
       "      <td>7.8</td>\n",
       "      <td>0.88</td>\n",
       "      <td>0.00</td>\n",
       "      <td>2.6</td>\n",
       "      <td>0.098</td>\n",
       "      <td>25.0</td>\n",
       "      <td>67.0</td>\n",
       "      <td>0.9968</td>\n",
       "      <td>3.20</td>\n",
       "      <td>0.68</td>\n",
       "      <td>9.8</td>\n",
       "      <td>5.0</td>\n",
       "    </tr>\n",
       "    <tr>\n",
       "      <th>5</th>\n",
       "      <td>7.8</td>\n",
       "      <td>0.76</td>\n",
       "      <td>0.04</td>\n",
       "      <td>2.3</td>\n",
       "      <td>0.092</td>\n",
       "      <td>15.0</td>\n",
       "      <td>54.0</td>\n",
       "      <td>0.9970</td>\n",
       "      <td>3.26</td>\n",
       "      <td>0.65</td>\n",
       "      <td>9.8</td>\n",
       "      <td>5.0</td>\n",
       "    </tr>\n",
       "    <tr>\n",
       "      <th>7</th>\n",
       "      <td>11.2</td>\n",
       "      <td>0.28</td>\n",
       "      <td>0.56</td>\n",
       "      <td>1.9</td>\n",
       "      <td>0.075</td>\n",
       "      <td>17.0</td>\n",
       "      <td>60.0</td>\n",
       "      <td>0.9980</td>\n",
       "      <td>3.16</td>\n",
       "      <td>0.58</td>\n",
       "      <td>9.8</td>\n",
       "      <td>6.0</td>\n",
       "    </tr>\n",
       "    <tr>\n",
       "      <th>9</th>\n",
       "      <td>7.4</td>\n",
       "      <td>0.70</td>\n",
       "      <td>0.00</td>\n",
       "      <td>1.9</td>\n",
       "      <td>0.076</td>\n",
       "      <td>11.0</td>\n",
       "      <td>34.0</td>\n",
       "      <td>0.9978</td>\n",
       "      <td>3.51</td>\n",
       "      <td>0.56</td>\n",
       "      <td>9.4</td>\n",
       "      <td>5.0</td>\n",
       "    </tr>\n",
       "  </tbody>\n",
       "</table>\n",
       "</div>"
      ],
      "text/plain": [
       "   fixed acidity  volatile acidity  citric acid  residual sugar  chlorides  \\\n",
       "1            7.4              0.70         0.00             1.9      0.076   \n",
       "3            7.8              0.88         0.00             2.6      0.098   \n",
       "5            7.8              0.76         0.04             2.3      0.092   \n",
       "7           11.2              0.28         0.56             1.9      0.075   \n",
       "9            7.4              0.70         0.00             1.9      0.076   \n",
       "\n",
       "   free sulfur dioxide  total sulfur dioxide  density    pH  sulphates  \\\n",
       "1                 11.0                  34.0   0.9978  3.51       0.56   \n",
       "3                 25.0                  67.0   0.9968  3.20       0.68   \n",
       "5                 15.0                  54.0   0.9970  3.26       0.65   \n",
       "7                 17.0                  60.0   0.9980  3.16       0.58   \n",
       "9                 11.0                  34.0   0.9978  3.51       0.56   \n",
       "\n",
       "   alcohol  quality  \n",
       "1      9.4      5.0  \n",
       "3      9.8      5.0  \n",
       "5      9.8      5.0  \n",
       "7      9.8      6.0  \n",
       "9      9.4      5.0  "
      ]
     },
     "execution_count": 15,
     "metadata": {},
     "output_type": "execute_result"
    }
   ],
   "source": [
    "df.head()"
   ]
  },
  {
   "cell_type": "code",
   "execution_count": 16,
   "id": "5754ab2c-0f05-4e75-9c7c-079967d936e0",
   "metadata": {},
   "outputs": [],
   "source": [
    "X=df.drop('quality',axis=1)\n",
    "y=df['quality']"
   ]
  },
  {
   "cell_type": "markdown",
   "id": "2f82cf62-397f-4c67-aafd-8c6360d1feb1",
   "metadata": {},
   "source": [
    "**Split  the data into Train and Test**"
   ]
  },
  {
   "cell_type": "code",
   "execution_count": 17,
   "id": "de71814f-3674-48cb-be42-a3ae791eac5a",
   "metadata": {},
   "outputs": [],
   "source": [
    "from sklearn.model_selection import train_test_split\n"
   ]
  },
  {
   "cell_type": "code",
   "execution_count": 18,
   "id": "a3770ac0-12ae-48dc-8683-92801bb3de12",
   "metadata": {},
   "outputs": [],
   "source": [
    "# you have 100 observations\n",
    "# test size=0.2 20% is test data\n",
    "# tarinsize=0.8 80% is train data\n",
    "# random state \n",
    "# we are passing X:input y_output\n",
    "# we are diving into 80:20\n",
    "# test size=0.2\n",
    "# we"
   ]
  },
  {
   "cell_type": "code",
   "execution_count": 19,
   "id": "964167d5-b53b-42ed-8b83-3d884f42ccf0",
   "metadata": {},
   "outputs": [],
   "source": [
    "from sklearn.model_selection import train_test_split\n",
    "X_train, X_test, y_train, y_test =train_test_split(X,y,test_size=0.2, random_state=1234)\n"
   ]
  },
  {
   "cell_type": "code",
   "execution_count": 20,
   "id": "20a2047d-6e3a-4664-9c7f-a64ec571750a",
   "metadata": {},
   "outputs": [
    {
     "data": {
      "text/plain": [
       "(1599, 12)"
      ]
     },
     "execution_count": 20,
     "metadata": {},
     "output_type": "execute_result"
    }
   ],
   "source": [
    "df.shape"
   ]
  },
  {
   "cell_type": "code",
   "execution_count": 21,
   "id": "b46c7fe5-5265-42c1-b2a2-ed1a55a1b864",
   "metadata": {},
   "outputs": [
    {
     "name": "stdout",
     "output_type": "stream",
     "text": [
      "1279.2\n",
      "319.8\n"
     ]
    }
   ],
   "source": [
    "print(1599*(80/100))\n",
    "print(1599*(20/100))"
   ]
  },
  {
   "cell_type": "code",
   "execution_count": 22,
   "id": "4ec05caf-807d-41a8-beb1-6fd47fe2fb2e",
   "metadata": {},
   "outputs": [
    {
     "name": "stdout",
     "output_type": "stream",
     "text": [
      "(1279, 11)\n"
     ]
    }
   ],
   "source": [
    "print(X_train.shape)"
   ]
  },
  {
   "cell_type": "code",
   "execution_count": 23,
   "id": "8a4262b2-84a4-4a3b-8a60-ccb67252b5cf",
   "metadata": {},
   "outputs": [
    {
     "name": "stdout",
     "output_type": "stream",
     "text": [
      "(320, 11)\n"
     ]
    }
   ],
   "source": [
    "print(X_test.shape)"
   ]
  },
  {
   "cell_type": "code",
   "execution_count": 24,
   "id": "a3001d92-9426-4aa5-bad3-8c4ff9e72ebc",
   "metadata": {},
   "outputs": [
    {
     "name": "stdout",
     "output_type": "stream",
     "text": [
      "(1279,)\n"
     ]
    }
   ],
   "source": [
    "print(y_train.shape)"
   ]
  },
  {
   "cell_type": "code",
   "execution_count": 25,
   "id": "f4208d23-5b15-4d49-87b5-b5f6f8f2c5ff",
   "metadata": {},
   "outputs": [
    {
     "name": "stdout",
     "output_type": "stream",
     "text": [
      "(320,)\n"
     ]
    }
   ],
   "source": [
    "print(y_test.shape)"
   ]
  },
  {
   "cell_type": "markdown",
   "id": "90f78538-d303-44ba-80f4-223d47089f84",
   "metadata": {},
   "source": [
    "**step-5**\n",
    "- Develop the Ml model\n",
    "- read the package\n",
    "- save the package\n",
    "- apply the fit transform"
   ]
  },
  {
   "cell_type": "code",
   "execution_count": 26,
   "id": "9abddd70-760b-4420-b4af-4a02f2a7fc90",
   "metadata": {},
   "outputs": [
    {
     "data": {
      "text/html": [
       "<style>#sk-container-id-1 {color: black;}#sk-container-id-1 pre{padding: 0;}#sk-container-id-1 div.sk-toggleable {background-color: white;}#sk-container-id-1 label.sk-toggleable__label {cursor: pointer;display: block;width: 100%;margin-bottom: 0;padding: 0.3em;box-sizing: border-box;text-align: center;}#sk-container-id-1 label.sk-toggleable__label-arrow:before {content: \"▸\";float: left;margin-right: 0.25em;color: #696969;}#sk-container-id-1 label.sk-toggleable__label-arrow:hover:before {color: black;}#sk-container-id-1 div.sk-estimator:hover label.sk-toggleable__label-arrow:before {color: black;}#sk-container-id-1 div.sk-toggleable__content {max-height: 0;max-width: 0;overflow: hidden;text-align: left;background-color: #f0f8ff;}#sk-container-id-1 div.sk-toggleable__content pre {margin: 0.2em;color: black;border-radius: 0.25em;background-color: #f0f8ff;}#sk-container-id-1 input.sk-toggleable__control:checked~div.sk-toggleable__content {max-height: 200px;max-width: 100%;overflow: auto;}#sk-container-id-1 input.sk-toggleable__control:checked~label.sk-toggleable__label-arrow:before {content: \"▾\";}#sk-container-id-1 div.sk-estimator input.sk-toggleable__control:checked~label.sk-toggleable__label {background-color: #d4ebff;}#sk-container-id-1 div.sk-label input.sk-toggleable__control:checked~label.sk-toggleable__label {background-color: #d4ebff;}#sk-container-id-1 input.sk-hidden--visually {border: 0;clip: rect(1px 1px 1px 1px);clip: rect(1px, 1px, 1px, 1px);height: 1px;margin: -1px;overflow: hidden;padding: 0;position: absolute;width: 1px;}#sk-container-id-1 div.sk-estimator {font-family: monospace;background-color: #f0f8ff;border: 1px dotted black;border-radius: 0.25em;box-sizing: border-box;margin-bottom: 0.5em;}#sk-container-id-1 div.sk-estimator:hover {background-color: #d4ebff;}#sk-container-id-1 div.sk-parallel-item::after {content: \"\";width: 100%;border-bottom: 1px solid gray;flex-grow: 1;}#sk-container-id-1 div.sk-label:hover label.sk-toggleable__label {background-color: #d4ebff;}#sk-container-id-1 div.sk-serial::before {content: \"\";position: absolute;border-left: 1px solid gray;box-sizing: border-box;top: 0;bottom: 0;left: 50%;z-index: 0;}#sk-container-id-1 div.sk-serial {display: flex;flex-direction: column;align-items: center;background-color: white;padding-right: 0.2em;padding-left: 0.2em;position: relative;}#sk-container-id-1 div.sk-item {position: relative;z-index: 1;}#sk-container-id-1 div.sk-parallel {display: flex;align-items: stretch;justify-content: center;background-color: white;position: relative;}#sk-container-id-1 div.sk-item::before, #sk-container-id-1 div.sk-parallel-item::before {content: \"\";position: absolute;border-left: 1px solid gray;box-sizing: border-box;top: 0;bottom: 0;left: 50%;z-index: -1;}#sk-container-id-1 div.sk-parallel-item {display: flex;flex-direction: column;z-index: 1;position: relative;background-color: white;}#sk-container-id-1 div.sk-parallel-item:first-child::after {align-self: flex-end;width: 50%;}#sk-container-id-1 div.sk-parallel-item:last-child::after {align-self: flex-start;width: 50%;}#sk-container-id-1 div.sk-parallel-item:only-child::after {width: 0;}#sk-container-id-1 div.sk-dashed-wrapped {border: 1px dashed gray;margin: 0 0.4em 0.5em 0.4em;box-sizing: border-box;padding-bottom: 0.4em;background-color: white;}#sk-container-id-1 div.sk-label label {font-family: monospace;font-weight: bold;display: inline-block;line-height: 1.2em;}#sk-container-id-1 div.sk-label-container {text-align: center;}#sk-container-id-1 div.sk-container {/* jupyter's `normalize.less` sets `[hidden] { display: none; }` but bootstrap.min.css set `[hidden] { display: none !important; }` so we also need the `!important` here to be able to override the default hidden behavior on the sphinx rendered scikit-learn.org. See: https://github.com/scikit-learn/scikit-learn/issues/21755 */display: inline-block !important;position: relative;}#sk-container-id-1 div.sk-text-repr-fallback {display: none;}</style><div id=\"sk-container-id-1\" class=\"sk-top-container\"><div class=\"sk-text-repr-fallback\"><pre>LinearRegression()</pre><b>In a Jupyter environment, please rerun this cell to show the HTML representation or trust the notebook. <br />On GitHub, the HTML representation is unable to render, please try loading this page with nbviewer.org.</b></div><div class=\"sk-container\" hidden><div class=\"sk-item\"><div class=\"sk-estimator sk-toggleable\"><input class=\"sk-toggleable__control sk-hidden--visually\" id=\"sk-estimator-id-1\" type=\"checkbox\" checked><label for=\"sk-estimator-id-1\" class=\"sk-toggleable__label sk-toggleable__label-arrow\">LinearRegression</label><div class=\"sk-toggleable__content\"><pre>LinearRegression()</pre></div></div></div></div></div>"
      ],
      "text/plain": [
       "LinearRegression()"
      ]
     },
     "execution_count": 26,
     "metadata": {},
     "output_type": "execute_result"
    }
   ],
   "source": [
    "from sklearn.linear_model import LinearRegression\n",
    "LR=LinearRegression()\n",
    "LR.fit(X_train,y_train)\n",
    "LR"
   ]
  },
  {
   "cell_type": "code",
   "execution_count": 27,
   "id": "3b3e9cd5-729f-419c-9870-2599afd0d61c",
   "metadata": {},
   "outputs": [
    {
     "data": {
      "text/plain": [
       "array([5.18402693, 5.35222632, 5.59491103, 5.52091961, 6.34175415,\n",
       "       5.39173054, 5.4386121 , 5.95987316, 5.47004148, 6.91005691,\n",
       "       4.98509136, 5.23277066, 5.69063919, 5.52790309, 5.51816101,\n",
       "       5.25774342, 4.97138685, 5.12531479, 6.16831487, 5.17480772,\n",
       "       5.11570282, 5.84314362, 5.18881658, 5.47252159, 5.7234016 ,\n",
       "       6.30684795, 5.29979062, 5.56538456, 6.00395044, 5.51753047,\n",
       "       4.75589372, 6.22649885, 5.24955921, 5.61323762, 5.54866083,\n",
       "       5.4907831 , 6.35361446, 5.23982145, 5.561088  , 5.81104267,\n",
       "       5.21412309, 6.08767487, 5.71655198, 5.34443848, 5.65810399,\n",
       "       5.02362366, 4.94708499, 5.80532814, 6.37676041, 5.54270371,\n",
       "       4.92835023, 5.73605681, 6.61798021, 6.15855747, 5.3704761 ,\n",
       "       5.11932029, 6.22074911, 5.2262822 , 6.44385318, 5.26198348,\n",
       "       5.28301604, 5.12118822, 5.12443471, 5.59218111, 5.02408579,\n",
       "       6.1394565 , 5.71787898, 6.31942795, 5.27013911, 6.0846879 ,\n",
       "       5.72948584, 5.53327202, 5.25038298, 6.17460327, 5.56538456,\n",
       "       5.32083864, 6.0150401 , 6.43530813, 4.88814887, 5.04913954,\n",
       "       5.68729866, 5.57896455, 5.7290186 , 5.97612524, 5.36898168,\n",
       "       5.02880372, 6.12712446, 5.31278196, 5.98479919, 6.13194433,\n",
       "       6.51189266, 5.41283432, 6.05002097, 5.0137043 , 5.46517764,\n",
       "       5.90374559, 5.30178062, 6.6341725 , 6.55082539, 6.0150401 ,\n",
       "       5.39782793, 5.49065123, 5.00327726, 5.55240601, 5.56966691,\n",
       "       5.31776897, 5.8785315 , 5.16223316, 5.42433364, 5.50048598,\n",
       "       6.36084316, 5.56366246, 6.20650152, 5.33506802, 5.55268727,\n",
       "       5.65470064, 5.38775256, 5.88472934, 6.79479485, 5.22782945,\n",
       "       5.95305554, 6.00736039, 5.60945827, 6.32139675, 6.04958854,\n",
       "       5.08971314, 5.24655894, 6.46316326, 6.26310018, 6.20577219,\n",
       "       5.30871293, 5.06889943, 5.87371277, 5.04742047, 5.29421699,\n",
       "       6.33394821, 5.86535105, 5.44319332, 5.41377041, 5.55953192,\n",
       "       5.92200919, 4.90131241, 5.42674997, 5.17617378, 5.75249678,\n",
       "       5.73817797, 5.20373637, 6.21836803, 6.14855266, 5.38058809,\n",
       "       5.47800612, 5.76410437, 6.55219996, 6.67759536, 6.01314068,\n",
       "       5.82095648, 5.7008064 , 5.6372558 , 6.53315447, 5.58878886,\n",
       "       6.39210152, 5.79143598, 6.00258743, 5.36003016, 5.78468889,\n",
       "       6.11196626, 5.35037059, 4.26057299, 5.76791222, 5.93493452,\n",
       "       4.91915794, 5.72793247, 4.98863426, 5.73442024, 6.54892053,\n",
       "       5.99519265, 5.32064824, 5.5417675 , 5.75760708, 4.99679769,\n",
       "       6.00322766, 5.22622448, 5.81451724, 6.55850657, 5.26574422,\n",
       "       5.14661707, 6.47572385, 6.66312736, 5.82315529, 6.20626549,\n",
       "       6.01180722, 5.5084863 , 4.76066998, 6.41669333, 5.33756863,\n",
       "       4.80308078, 5.37155263, 6.9354863 , 5.31029439, 5.0480916 ,\n",
       "       5.85891607, 5.89886295, 5.74584066, 5.01770049, 6.60247899,\n",
       "       5.57766701, 5.8545049 , 5.11620488, 5.05950153, 4.8547598 ,\n",
       "       5.67796929, 5.02413353, 5.61492682, 5.08946876, 5.90855691,\n",
       "       6.66104943, 5.34975935, 5.36444569, 5.34261961, 5.61719826,\n",
       "       5.58848586, 5.89060018, 4.91678293, 5.39826875, 5.78675148,\n",
       "       4.98881432, 5.50889257, 6.13549554, 5.58819852, 5.99411749,\n",
       "       6.31666165, 5.50318331, 5.71787898, 5.0510233 , 5.44834178,\n",
       "       5.30067944, 6.40801641, 5.76406936, 5.79597235, 6.33739864,\n",
       "       5.26793641, 5.09437997, 6.34545057, 5.26134981, 5.23889138,\n",
       "       4.96522989, 4.94576152, 5.76101187, 6.44246558, 6.2376922 ,\n",
       "       5.64193325, 5.72848848, 6.19479981, 5.02413353, 5.84825118,\n",
       "       5.48096597, 5.32537219, 5.19429238, 5.80581404, 5.40012258,\n",
       "       5.40404058, 5.04857237, 6.12756557, 6.3227982 , 5.90458709,\n",
       "       6.06247903, 6.05103932, 5.90143817, 5.35740672, 5.3704761 ,\n",
       "       5.08845724, 5.28767367, 5.42170404, 5.37003359, 5.6390435 ,\n",
       "       5.7296821 , 6.07227189, 4.96325159, 5.56339633, 5.33250366,\n",
       "       6.12791952, 5.76158439, 5.86698002, 5.39748052, 5.28465633,\n",
       "       5.75837267, 5.8149593 , 5.04968   , 5.32844916, 5.75393581,\n",
       "       6.40127499, 5.9373478 , 4.96300949, 5.84909362, 5.70593835,\n",
       "       5.61992295, 5.18050416, 5.35265055, 4.98881432, 5.3791698 ,\n",
       "       5.94624924, 6.53523473, 5.91201571, 5.12493362, 6.52934475,\n",
       "       6.3308775 , 5.73186785, 4.97265088, 5.64601463, 5.15505816,\n",
       "       5.39108249, 5.11050691, 5.73657613, 5.55826824, 6.03342611,\n",
       "       5.22024243, 5.14645374, 6.27657951, 5.77733102, 5.12131274])"
      ]
     },
     "execution_count": 27,
     "metadata": {},
     "output_type": "execute_result"
    }
   ],
   "source": [
    "y_predictions=LR.predict(X_test)\n",
    "y_predictions"
   ]
  },
  {
   "cell_type": "code",
   "execution_count": 28,
   "id": "98620a88-217a-45fe-b6b5-16c3f2c772e3",
   "metadata": {},
   "outputs": [
    {
     "data": {
      "text/plain": [
       "320"
      ]
     },
     "execution_count": 28,
     "metadata": {},
     "output_type": "execute_result"
    }
   ],
   "source": [
    "# y predictions are given by the model\n",
    "len(y_predictions)"
   ]
  },
  {
   "cell_type": "code",
   "execution_count": 29,
   "id": "c4248fc1-9222-4314-9cb6-f18171093ec4",
   "metadata": {},
   "outputs": [
    {
     "data": {
      "text/plain": [
       "320"
      ]
     },
     "execution_count": 29,
     "metadata": {},
     "output_type": "execute_result"
    }
   ],
   "source": [
    "# y_test consider as actual output\n",
    "len(y_test)"
   ]
  },
  {
   "cell_type": "code",
   "execution_count": 30,
   "id": "56791f1d-714b-422e-b926-917a6676c881",
   "metadata": {},
   "outputs": [
    {
     "data": {
      "text/plain": [
       "array([5., 5., 6., 6., 7.])"
      ]
     },
     "execution_count": 30,
     "metadata": {},
     "output_type": "execute_result"
    }
   ],
   "source": [
    "y_test[:5].values"
   ]
  },
  {
   "cell_type": "code",
   "execution_count": 31,
   "id": "bde1062a-c0b9-49a3-84c6-97db912b354e",
   "metadata": {},
   "outputs": [
    {
     "data": {
      "text/plain": [
       "array([5.18402693, 5.35222632, 5.59491103, 5.52091961, 6.34175415])"
      ]
     },
     "execution_count": 31,
     "metadata": {},
     "output_type": "execute_result"
    }
   ],
   "source": [
    "y_predictions[:5]"
   ]
  },
  {
   "cell_type": "markdown",
   "id": "c17aad15-edc8-4426-844a-013eac822323",
   "metadata": {},
   "source": [
    "**step-7**"
   ]
  },
  {
   "cell_type": "markdown",
   "id": "3b55bdc8-c607-429f-ae0f-f758f51201d9",
   "metadata": {},
   "source": [
    "**metrics evaluation**"
   ]
  },
  {
   "cell_type": "code",
   "execution_count": 32,
   "id": "03589593-5de4-48ba-b2c9-5778320ca6b1",
   "metadata": {},
   "outputs": [
    {
     "ename": "SyntaxError",
     "evalue": "invalid syntax (1675729556.py, line 1)",
     "output_type": "error",
     "traceback": [
      "\u001b[1;36m  Cell \u001b[1;32mIn[32], line 1\u001b[1;36m\u001b[0m\n\u001b[1;33m    Label Encoder :preprocessing\u001b[0m\n\u001b[1;37m          ^\u001b[0m\n\u001b[1;31mSyntaxError\u001b[0m\u001b[1;31m:\u001b[0m invalid syntax\n"
     ]
    }
   ],
   "source": [
    "Label Encoder :preprocessing\n",
    "StandardScalr :preproprecessing\n",
    "from sklearn.preprocessing import MinMaxScaler\n",
    "train_test_split:model related\n",
    "from sklearn.linear_model import"
   ]
  },
  {
   "cell_type": "code",
   "execution_count": null,
   "id": "46d7c8e7-fb49-4201-8ada-6ab644284260",
   "metadata": {},
   "outputs": [],
   "source": []
  },
  {
   "cell_type": "code",
   "execution_count": null,
   "id": "61aae941-3b8c-42fc-9d16-021bfb5bf2f3",
   "metadata": {},
   "outputs": [],
   "source": []
  },
  {
   "cell_type": "code",
   "execution_count": null,
   "id": "b9745c6f-b322-45ce-a04c-501703dcfb15",
   "metadata": {},
   "outputs": [],
   "source": [
    "from sklearn.metrics import mean_squared_error,r2_score,mean_absolute_error\n",
    "# we have to pass the actual ouput y_test and predictions  y_predictions"
   ]
  },
  {
   "cell_type": "code",
   "execution_count": null,
   "id": "4f9b03ca-8ee5-4a20-80d4-6c71639f81f6",
   "metadata": {},
   "outputs": [],
   "source": [
    "from sklearn.metrics import mean_squared_error,r2_score,mean_absolute_error\n",
    "print(mean_squared_error(y_test,y_predictions))\n",
    "print(mean_absolute_error(y_test,y_predictions))\n",
    "print(r2_score(y_test,y_predictions))"
   ]
  },
  {
   "cell_type": "code",
   "execution_count": null,
   "id": "c61f9ccb-4564-4686-b790-cc386e9120ae",
   "metadata": {},
   "outputs": [],
   "source": []
  },
  {
   "cell_type": "code",
   "execution_count": null,
   "id": "fcc28855-0679-405e-ac76-f45eae9b79db",
   "metadata": {},
   "outputs": [],
   "source": [
    "# mean square error manually\n",
    "# understand the formulae\n",
    "#ya-y actual\n",
    "#yp-y-preditions\n",
    "# n-number of observations\n",
    "#we will take the each observation subtraction and then square and the summation and then we divide it will be number of the observations"
   ]
  },
  {
   "cell_type": "code",
   "execution_count": null,
   "id": "0c83144c-1bcb-48d5-86ba-efb5ff272b00",
   "metadata": {},
   "outputs": [],
   "source": [
    "import numpy as np\n",
    "summ=0\n",
    "for i in range(len(y_test)):\n",
    "    summ=+summ+(np.square(y_test.values[i]-\n",
    "          y_predictions[i]))\n",
    "summ/len(y_test)"
   ]
  },
  {
   "cell_type": "code",
   "execution_count": null,
   "id": "464c6fd1-fd7e-4884-bf3e-6d1aa5561cb1",
   "metadata": {},
   "outputs": [],
   "source": [
    "np.sqrt(mean_squared_error(y_test,y_predictions))"
   ]
  },
  {
   "cell_type": "code",
   "execution_count": null,
   "id": "1dc4a250-fc34-4e59-87d3-b3c8b9ddd69c",
   "metadata": {},
   "outputs": [],
   "source": [
    "(mean_squared_error(y_test,y_predictions))**0.5"
   ]
  },
  {
   "cell_type": "code",
   "execution_count": null,
   "id": "0c7caad1-d738-4237-8f11-643623bf74f3",
   "metadata": {},
   "outputs": [],
   "source": [
    "plt.figure(figsize=(10,10))\n",
    "sns.heatmap(df.corr(),annot=True)"
   ]
  },
  {
   "cell_type": "code",
   "execution_count": null,
   "id": "31a36322-caba-48e4-8379-06314d62693a",
   "metadata": {},
   "outputs": [],
   "source": [
    "\n"
   ]
  },
  {
   "cell_type": "code",
   "execution_count": null,
   "id": "f3a555ed-e67f-4c1e-9362-1fbb0c1b94f6",
   "metadata": {},
   "outputs": [],
   "source": []
  },
  {
   "cell_type": "code",
   "execution_count": null,
   "id": "baf5ddf8-189d-4bd4-b047-90db8b0afe82",
   "metadata": {},
   "outputs": [],
   "source": [
    "# we develop the model\n",
    "# you want to handover model to client \n",
    "# we need to save the model and share\n"
   ]
  },
  {
   "cell_type": "code",
   "execution_count": null,
   "id": "2827acac-36cb-4f62-82d7-185222dfae4d",
   "metadata": {},
   "outputs": [],
   "source": [
    "#LR\n",
    "#he dont want to do all 10 steps what we have done\n",
    "# he ask the you develop a model right share that model to me\n",
    "# i will pass the test cases so that i will provide the test cases so that i will get the predictions\n"
   ]
  },
  {
   "cell_type": "code",
   "execution_count": null,
   "id": "57a8255f-788e-4a89-8848-02272d9faa7a",
   "metadata": {},
   "outputs": [],
   "source": [
    "#pickle"
   ]
  },
  {
   "cell_type": "code",
   "execution_count": 34,
   "id": "1924039d-fed1-4e33-9c6d-1324124a0a89",
   "metadata": {},
   "outputs": [],
   "source": [
    "import pickle\n",
    "file=open('linear_wine_model.pkl','wb')\n",
    "pickle.dump(LR,open('linear_wine_model.pkl','wb'))"
   ]
  },
  {
   "cell_type": "code",
   "execution_count": null,
   "id": "15d82769-b6e3-498d-ac51-c5fe5e7e5dc7",
   "metadata": {},
   "outputs": [],
   "source": [
    "#dataframe you want to save the dataframe\n",
    "# df.to_csv(\"<path>\".csv)"
   ]
  },
  {
   "cell_type": "code",
   "execution_count": null,
   "id": "a68999dc-6cc5-47e1-bbb3-2bbb179f06d3",
   "metadata": {},
   "outputs": [],
   "source": [
    "# to save the models will use \n",
    "#pickle \n",
    "#joblib\n",
    "#google tensorflow \n",
    "# DL: tf.save()"
   ]
  },
  {
   "cell_type": "code",
   "execution_count": null,
   "id": "aaf52feb-2289-47d6-93ec-6b7662a97bbc",
   "metadata": {},
   "outputs": [],
   "source": []
  },
  {
   "cell_type": "code",
   "execution_count": null,
   "id": "f1597f4f-5fa1-4270-9b5d-e3a128c50637",
   "metadata": {},
   "outputs": [],
   "source": []
  }
 ],
 "metadata": {
  "kernelspec": {
   "display_name": "Python 3 (ipykernel)",
   "language": "python",
   "name": "python3"
  },
  "language_info": {
   "codemirror_mode": {
    "name": "ipython",
    "version": 3
   },
   "file_extension": ".py",
   "mimetype": "text/x-python",
   "name": "python",
   "nbconvert_exporter": "python",
   "pygments_lexer": "ipython3",
   "version": "3.11.5"
  }
 },
 "nbformat": 4,
 "nbformat_minor": 5
}
